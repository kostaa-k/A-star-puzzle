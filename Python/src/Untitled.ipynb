{
 "cells": [
  {
   "cell_type": "code",
   "execution_count": 89,
   "metadata": {},
   "outputs": [],
   "source": [
    "import PuzzleHeuristics\n",
    "import PuzzleFunctions\n",
    "import importlib"
   ]
  },
  {
   "cell_type": "code",
   "execution_count": 90,
   "metadata": {},
   "outputs": [
    {
     "data": {
      "text/plain": [
       "<module 'PuzzleHeuristics' from 'C:\\\\Users\\\\Kosta\\\\Documents\\\\GitHub\\\\A-star-puzzle\\\\Python\\\\src\\\\PuzzleHeuristics.py'>"
      ]
     },
     "execution_count": 90,
     "metadata": {},
     "output_type": "execute_result"
    }
   ],
   "source": [
    "importlib.reload(PuzzleFunctions)\n",
    "importlib.reload(PuzzleHeuristics)"
   ]
  },
  {
   "cell_type": "code",
   "execution_count": 91,
   "metadata": {},
   "outputs": [],
   "source": [
    "successState = PuzzleFunctions.createSuccessState(3)\n",
    "successDict = PuzzleFunctions.getSuccessDictionary(successState)"
   ]
  },
  {
   "cell_type": "code",
   "execution_count": 92,
   "metadata": {},
   "outputs": [
    {
     "name": "stdout",
     "output_type": "stream",
     "text": [
      "4 2 5 \n",
      "1 0 6 \n",
      "3 8 7 \n"
     ]
    }
   ],
   "source": [
    "tempBoard = [[4,2,5],[1,0,6],[3,8,7]]\n",
    "PuzzleFunctions.printBoardNicely(tempBoard)"
   ]
  },
  {
   "cell_type": "code",
   "execution_count": 93,
   "metadata": {},
   "outputs": [
    {
     "name": "stdout",
     "output_type": "stream",
     "text": [
      "[4, 1]\n",
      "[2, 8]\n",
      "[6]\n",
      "\n",
      "1\n",
      "[2]\n",
      "[6]\n",
      "[8, 7]\n"
     ]
    },
    {
     "data": {
      "text/plain": [
       "14"
      ]
     },
     "execution_count": 93,
     "metadata": {},
     "output_type": "execute_result"
    }
   ],
   "source": [
    "PuzzleHeuristics.getLinearConflicts(tempBoard, successDict)"
   ]
  },
  {
   "cell_type": "code",
   "execution_count": null,
   "metadata": {},
   "outputs": [],
   "source": []
  },
  {
   "cell_type": "code",
   "execution_count": null,
   "metadata": {},
   "outputs": [],
   "source": []
  }
 ],
 "metadata": {
  "kernelspec": {
   "display_name": "Python 3",
   "language": "python",
   "name": "python3"
  },
  "language_info": {
   "codemirror_mode": {
    "name": "ipython",
    "version": 3
   },
   "file_extension": ".py",
   "mimetype": "text/x-python",
   "name": "python",
   "nbconvert_exporter": "python",
   "pygments_lexer": "ipython3",
   "version": "3.8.5"
  }
 },
 "nbformat": 4,
 "nbformat_minor": 4
}
