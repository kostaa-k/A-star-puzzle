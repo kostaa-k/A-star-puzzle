{
 "cells": [
  {
   "cell_type": "code",
   "execution_count": 1,
   "metadata": {},
   "outputs": [],
   "source": [
    "import importlib\n",
    "import PuzzleFunctions\n",
    "import PuzzleHeuristics\n",
    "import PuzzleState\n",
    "from PuzzleState import Node\n",
    "import bisect\n",
    "import math\n",
    "import time\n",
    "from copy import deepcopy\n",
    "import DriverFunctions\n",
    "import pandas as pd"
   ]
  },
  {
   "cell_type": "code",
   "execution_count": 2,
   "metadata": {},
   "outputs": [
    {
     "data": {
      "text/plain": [
       "<module 'PuzzleState' from 'C:\\\\Users\\\\Kosta\\\\Documents\\\\GitHub\\\\A-star-puzzle\\\\src\\\\PuzzleState.py'>"
      ]
     },
     "execution_count": 2,
     "metadata": {},
     "output_type": "execute_result"
    }
   ],
   "source": [
    "#to reload libraries on change\n",
    "importlib.reload(PuzzleState)"
   ]
  },
  {
   "cell_type": "code",
   "execution_count": 5,
   "metadata": {},
   "outputs": [
    {
     "data": {
      "text/plain": [
       "False"
      ]
     },
     "execution_count": 5,
     "metadata": {},
     "output_type": "execute_result"
    }
   ],
   "source": [
    "PuzzleBoard = [[3, 9, 1, 15],[14, 11, 4, 6], [13, 0, 10, 12], [2, 7, 8, 5]]\n",
    "puzzleNode = Node(PuzzleBoard, None, 0)\n",
    "puzzleNode.isSolvable()"
   ]
  },
  {
   "cell_type": "code",
   "execution_count": 8,
   "metadata": {},
   "outputs": [],
   "source": [
    "successState = PuzzleFunctions.createSuccessState(3)\n",
    "possibleVals = PuzzleFunctions.getPossibleValues(3)\n",
    "randomState = PuzzleFunctions.createRandomBoard(possibleVals)\n",
    "aNode = Node(randomState, None, 0)"
   ]
  },
  {
   "cell_type": "code",
   "execution_count": 12,
   "metadata": {},
   "outputs": [
    {
     "name": "stdout",
     "output_type": "stream",
     "text": [
      "7 1 6 \n",
      "8 3 0 \n",
      "2 5 4 \n"
     ]
    }
   ],
   "source": [
    "PuzzleFunctions.printBoardNicely(randomState)"
   ]
  },
  {
   "cell_type": "code",
   "execution_count": 13,
   "metadata": {},
   "outputs": [],
   "source": [
    "hashBoard = PuzzleFunctions.getSuccessDictionary(randomState)"
   ]
  },
  {
   "cell_type": "code",
   "execution_count": 15,
   "metadata": {},
   "outputs": [
    {
     "data": {
      "text/plain": [
       "[[[7, 1, 6], [8, 3, 4], [2, 5, 0]],\n",
       " [[7, 1, 0], [8, 3, 6], [2, 5, 4]],\n",
       " [[7, 1, 6], [8, 0, 3], [2, 5, 4]]]"
      ]
     },
     "execution_count": 15,
     "metadata": {},
     "output_type": "execute_result"
    }
   ],
   "source": [
    "PuzzleFunctions.getPossibleStates(randomState, hashBoard)"
   ]
  },
  {
   "cell_type": "code",
   "execution_count": 17,
   "metadata": {},
   "outputs": [
    {
     "name": "stdout",
     "output_type": "stream",
     "text": [
      "7 1 6 \n",
      "8 3 4 \n",
      "2 5 0 \n",
      "\n",
      "7 1 0 \n",
      "8 3 6 \n",
      "2 5 4 \n",
      "\n",
      "7 1 6 \n",
      "8 0 3 \n",
      "2 5 4 \n",
      "\n"
     ]
    }
   ],
   "source": [
    "for x in PuzzleFunctions.getPossibleStates(randomState, hashBoard):\n",
    "    PuzzleFunctions.printBoardNicely(x)\n",
    "    print()"
   ]
  },
  {
   "cell_type": "code",
   "execution_count": 19,
   "metadata": {},
   "outputs": [
    {
     "data": {
      "text/plain": [
       "[1, 2]"
      ]
     },
     "execution_count": 19,
     "metadata": {},
     "output_type": "execute_result"
    }
   ],
   "source": [
    "PuzzleFunctions.getSuccessDictionary(randomState)[0]"
   ]
  },
  {
   "cell_type": "code",
   "execution_count": 9,
   "metadata": {},
   "outputs": [],
   "source": [
    "heuristicsDict = PuzzleHeuristics.getHeuristicsDictionary()\n",
    "results_df = pd.DataFrame(columns=[\"Path cost\", \"Nodes Expanded\" ])"
   ]
  },
  {
   "cell_type": "code",
   "execution_count": 10,
   "metadata": {},
   "outputs": [],
   "source": [
    "pathCost_df = pd.DataFrame()\n",
    "nodesExpanded_df = pd.DataFrame()"
   ]
  },
  {
   "cell_type": "code",
   "execution_count": 11,
   "metadata": {},
   "outputs": [],
   "source": [
    "vals = [\"h1\", \"h2\", \"h3\"]"
   ]
  },
  {
   "cell_type": "code",
   "execution_count": 12,
   "metadata": {
    "scrolled": true
   },
   "outputs": [
    {
     "name": "stdout",
     "output_type": "stream",
     "text": [
      "h1  FINISHED WITH PATH COST:  23 NODES EXPANDED:  15639\n",
      "h2  FINISHED WITH PATH COST:  23 NODES EXPANDED:  1056\n",
      "h3  FINISHED WITH PATH COST:  23 NODES EXPANDED:  5634\n",
      "h1  FINISHED WITH PATH COST:  28 NODES EXPANDED:  108234\n",
      "h2  FINISHED WITH PATH COST:  28 NODES EXPANDED:  8262\n",
      "h3  FINISHED WITH PATH COST:  28 NODES EXPANDED:  32852\n",
      "h1  FINISHED WITH PATH COST:  25 NODES EXPANDED:  36177\n",
      "h2  FINISHED WITH PATH COST:  25 NODES EXPANDED:  2022\n",
      "h3  FINISHED WITH PATH COST:  25 NODES EXPANDED:  10409\n",
      "h1  FINISHED WITH PATH COST:  23 NODES EXPANDED:  16158\n",
      "h2  FINISHED WITH PATH COST:  23 NODES EXPANDED:  1698\n",
      "h3  FINISHED WITH PATH COST:  23 NODES EXPANDED:  16338\n",
      "h1  FINISHED WITH PATH COST:  22 NODES EXPANDED:  12519\n",
      "h2  FINISHED WITH PATH COST:  22 NODES EXPANDED:  1866\n",
      "h3  FINISHED WITH PATH COST:  22 NODES EXPANDED:  4200\n",
      "h1  FINISHED WITH PATH COST:  22 NODES EXPANDED:  8949\n",
      "h2  FINISHED WITH PATH COST:  22 NODES EXPANDED:  874\n",
      "h3  FINISHED WITH PATH COST:  22 NODES EXPANDED:  2954\n",
      "h1  FINISHED WITH PATH COST:  23 NODES EXPANDED:  16037\n",
      "h2  FINISHED WITH PATH COST:  23 NODES EXPANDED:  1333\n",
      "h3  FINISHED WITH PATH COST:  23 NODES EXPANDED:  4533\n",
      "h1  FINISHED WITH PATH COST:  24 NODES EXPANDED:  25017\n",
      "h2  FINISHED WITH PATH COST:  24 NODES EXPANDED:  4321\n",
      "h3  FINISHED WITH PATH COST:  24 NODES EXPANDED:  19609\n",
      "h1  FINISHED WITH PATH COST:  21 NODES EXPANDED:  6811\n",
      "h2  FINISHED WITH PATH COST:  21 NODES EXPANDED:  811\n",
      "h3  FINISHED WITH PATH COST:  21 NODES EXPANDED:  5103\n",
      "h1  FINISHED WITH PATH COST:  19 NODES EXPANDED:  2934\n",
      "h2  FINISHED WITH PATH COST:  19 NODES EXPANDED:  592\n",
      "h3  FINISHED WITH PATH COST:  19 NODES EXPANDED:  3274\n",
      "h1  FINISHED WITH PATH COST:  27 NODES EXPANDED:  82534\n",
      "h2  FINISHED WITH PATH COST:  27 NODES EXPANDED:  7576\n",
      "h3  FINISHED WITH PATH COST:  27 NODES EXPANDED:  35085\n",
      "h1  FINISHED WITH PATH COST:  21 NODES EXPANDED:  6807\n",
      "h2  FINISHED WITH PATH COST:  21 NODES EXPANDED:  904\n",
      "h3  FINISHED WITH PATH COST:  21 NODES EXPANDED:  4275\n",
      "h1  FINISHED WITH PATH COST:  19 NODES EXPANDED:  2450\n",
      "h2  FINISHED WITH PATH COST:  19 NODES EXPANDED:  260\n",
      "h3  FINISHED WITH PATH COST:  19 NODES EXPANDED:  1493\n",
      "h1  FINISHED WITH PATH COST:  21 NODES EXPANDED:  7207\n",
      "h2  FINISHED WITH PATH COST:  21 NODES EXPANDED:  937\n",
      "h3  FINISHED WITH PATH COST:  21 NODES EXPANDED:  5292\n",
      "h1  FINISHED WITH PATH COST:  17 NODES EXPANDED:  1102\n",
      "h2  FINISHED WITH PATH COST:  17 NODES EXPANDED:  269\n",
      "h3  FINISHED WITH PATH COST:  17 NODES EXPANDED:  812\n"
     ]
    }
   ],
   "source": [
    "count = 0\n",
    "while(count < 15):\n",
    "    randomState = PuzzleFunctions.createRandomBoard(possibleVals)\n",
    "    #PuzzleFunctions.printBoardNicely(randomState)\n",
    "    aNode = Node(randomState, None, 0)\n",
    "    if(aNode.isSolvable()):\n",
    "        for key in vals:\n",
    "            nodesExpanded = 0\n",
    "            finishedNode, nodesExpanded = DriverFunctions.solvePuzzle(aNode, successState, key, heuristicsDict)\n",
    "            pathCost_df.at[key, \"PathCost\"+(str)(count)] = finishedNode.pathCost\n",
    "            nodesExpanded_df.at[key, \"NodesExpanded\"+str(count)] = nodesExpanded\n",
    "            print(key, \" FINISHED WITH PATH COST: \", finishedNode.pathCost, \"NODES EXPANDED: \", nodesExpanded)\n",
    "        count = count+1"
   ]
  },
  {
   "cell_type": "code",
   "execution_count": 15,
   "metadata": {},
   "outputs": [
    {
     "data": {
      "text/plain": [
       "True"
      ]
     },
     "execution_count": 15,
     "metadata": {},
     "output_type": "execute_result"
    }
   ],
   "source": [
    "check_df(pathCost_df)"
   ]
  },
  {
   "cell_type": "code",
   "execution_count": 14,
   "metadata": {},
   "outputs": [],
   "source": [
    "\n",
    "def check_df(df):\n",
    "    for col in (list)(df.columns):\n",
    "        allNums = []\n",
    "        for row in (list)(df.index):\n",
    "            allNums.append(df.at[row, col])\n",
    "            \n",
    "        for i in range(0, len(allNums)):\n",
    "            for x in range(i, len(allNums)):\n",
    "                if(allNums[i] != allNums[x]):\n",
    "                    return False\n",
    "                \n",
    "    return True"
   ]
  },
  {
   "cell_type": "code",
   "execution_count": 16,
   "metadata": {},
   "outputs": [
    {
     "data": {
      "text/html": [
       "<div>\n",
       "<style scoped>\n",
       "    .dataframe tbody tr th:only-of-type {\n",
       "        vertical-align: middle;\n",
       "    }\n",
       "\n",
       "    .dataframe tbody tr th {\n",
       "        vertical-align: top;\n",
       "    }\n",
       "\n",
       "    .dataframe thead th {\n",
       "        text-align: right;\n",
       "    }\n",
       "</style>\n",
       "<table border=\"1\" class=\"dataframe\">\n",
       "  <thead>\n",
       "    <tr style=\"text-align: right;\">\n",
       "      <th></th>\n",
       "      <th>PathCost0</th>\n",
       "      <th>PathCost1</th>\n",
       "      <th>PathCost2</th>\n",
       "      <th>PathCost3</th>\n",
       "      <th>PathCost4</th>\n",
       "      <th>PathCost5</th>\n",
       "      <th>PathCost6</th>\n",
       "      <th>PathCost7</th>\n",
       "      <th>PathCost8</th>\n",
       "      <th>PathCost9</th>\n",
       "      <th>PathCost10</th>\n",
       "      <th>PathCost11</th>\n",
       "      <th>PathCost12</th>\n",
       "      <th>PathCost13</th>\n",
       "      <th>PathCost14</th>\n",
       "    </tr>\n",
       "  </thead>\n",
       "  <tbody>\n",
       "    <tr>\n",
       "      <th>h1</th>\n",
       "      <td>23.0</td>\n",
       "      <td>28.0</td>\n",
       "      <td>25.0</td>\n",
       "      <td>23.0</td>\n",
       "      <td>22.0</td>\n",
       "      <td>22.0</td>\n",
       "      <td>23.0</td>\n",
       "      <td>24.0</td>\n",
       "      <td>21.0</td>\n",
       "      <td>19.0</td>\n",
       "      <td>27.0</td>\n",
       "      <td>21.0</td>\n",
       "      <td>19.0</td>\n",
       "      <td>21.0</td>\n",
       "      <td>17.0</td>\n",
       "    </tr>\n",
       "    <tr>\n",
       "      <th>h2</th>\n",
       "      <td>23.0</td>\n",
       "      <td>28.0</td>\n",
       "      <td>25.0</td>\n",
       "      <td>23.0</td>\n",
       "      <td>22.0</td>\n",
       "      <td>22.0</td>\n",
       "      <td>23.0</td>\n",
       "      <td>24.0</td>\n",
       "      <td>21.0</td>\n",
       "      <td>19.0</td>\n",
       "      <td>27.0</td>\n",
       "      <td>21.0</td>\n",
       "      <td>19.0</td>\n",
       "      <td>21.0</td>\n",
       "      <td>17.0</td>\n",
       "    </tr>\n",
       "    <tr>\n",
       "      <th>h3</th>\n",
       "      <td>23.0</td>\n",
       "      <td>28.0</td>\n",
       "      <td>25.0</td>\n",
       "      <td>23.0</td>\n",
       "      <td>22.0</td>\n",
       "      <td>22.0</td>\n",
       "      <td>23.0</td>\n",
       "      <td>24.0</td>\n",
       "      <td>21.0</td>\n",
       "      <td>19.0</td>\n",
       "      <td>27.0</td>\n",
       "      <td>21.0</td>\n",
       "      <td>19.0</td>\n",
       "      <td>21.0</td>\n",
       "      <td>17.0</td>\n",
       "    </tr>\n",
       "  </tbody>\n",
       "</table>\n",
       "</div>"
      ],
      "text/plain": [
       "    PathCost0  PathCost1  PathCost2  PathCost3  PathCost4  PathCost5  \\\n",
       "h1       23.0       28.0       25.0       23.0       22.0       22.0   \n",
       "h2       23.0       28.0       25.0       23.0       22.0       22.0   \n",
       "h3       23.0       28.0       25.0       23.0       22.0       22.0   \n",
       "\n",
       "    PathCost6  PathCost7  PathCost8  PathCost9  PathCost10  PathCost11  \\\n",
       "h1       23.0       24.0       21.0       19.0        27.0        21.0   \n",
       "h2       23.0       24.0       21.0       19.0        27.0        21.0   \n",
       "h3       23.0       24.0       21.0       19.0        27.0        21.0   \n",
       "\n",
       "    PathCost12  PathCost13  PathCost14  \n",
       "h1        19.0        21.0        17.0  \n",
       "h2        19.0        21.0        17.0  \n",
       "h3        19.0        21.0        17.0  "
      ]
     },
     "execution_count": 16,
     "metadata": {},
     "output_type": "execute_result"
    }
   ],
   "source": [
    "pathCost_df"
   ]
  },
  {
   "cell_type": "code",
   "execution_count": 17,
   "metadata": {},
   "outputs": [
    {
     "data": {
      "text/html": [
       "<div>\n",
       "<style scoped>\n",
       "    .dataframe tbody tr th:only-of-type {\n",
       "        vertical-align: middle;\n",
       "    }\n",
       "\n",
       "    .dataframe tbody tr th {\n",
       "        vertical-align: top;\n",
       "    }\n",
       "\n",
       "    .dataframe thead th {\n",
       "        text-align: right;\n",
       "    }\n",
       "</style>\n",
       "<table border=\"1\" class=\"dataframe\">\n",
       "  <thead>\n",
       "    <tr style=\"text-align: right;\">\n",
       "      <th></th>\n",
       "      <th>NodesExpanded0</th>\n",
       "      <th>NodesExpanded1</th>\n",
       "      <th>NodesExpanded2</th>\n",
       "      <th>NodesExpanded3</th>\n",
       "      <th>NodesExpanded4</th>\n",
       "      <th>NodesExpanded5</th>\n",
       "      <th>NodesExpanded6</th>\n",
       "      <th>NodesExpanded7</th>\n",
       "      <th>NodesExpanded8</th>\n",
       "      <th>NodesExpanded9</th>\n",
       "      <th>NodesExpanded10</th>\n",
       "      <th>NodesExpanded11</th>\n",
       "      <th>NodesExpanded12</th>\n",
       "      <th>NodesExpanded13</th>\n",
       "      <th>NodesExpanded14</th>\n",
       "    </tr>\n",
       "  </thead>\n",
       "  <tbody>\n",
       "    <tr>\n",
       "      <th>h1</th>\n",
       "      <td>15639.0</td>\n",
       "      <td>108234.0</td>\n",
       "      <td>36177.0</td>\n",
       "      <td>16158.0</td>\n",
       "      <td>12519.0</td>\n",
       "      <td>8949.0</td>\n",
       "      <td>16037.0</td>\n",
       "      <td>25017.0</td>\n",
       "      <td>6811.0</td>\n",
       "      <td>2934.0</td>\n",
       "      <td>82534.0</td>\n",
       "      <td>6807.0</td>\n",
       "      <td>2450.0</td>\n",
       "      <td>7207.0</td>\n",
       "      <td>1102.0</td>\n",
       "    </tr>\n",
       "    <tr>\n",
       "      <th>h2</th>\n",
       "      <td>1056.0</td>\n",
       "      <td>8262.0</td>\n",
       "      <td>2022.0</td>\n",
       "      <td>1698.0</td>\n",
       "      <td>1866.0</td>\n",
       "      <td>874.0</td>\n",
       "      <td>1333.0</td>\n",
       "      <td>4321.0</td>\n",
       "      <td>811.0</td>\n",
       "      <td>592.0</td>\n",
       "      <td>7576.0</td>\n",
       "      <td>904.0</td>\n",
       "      <td>260.0</td>\n",
       "      <td>937.0</td>\n",
       "      <td>269.0</td>\n",
       "    </tr>\n",
       "    <tr>\n",
       "      <th>h3</th>\n",
       "      <td>5634.0</td>\n",
       "      <td>32852.0</td>\n",
       "      <td>10409.0</td>\n",
       "      <td>16338.0</td>\n",
       "      <td>4200.0</td>\n",
       "      <td>2954.0</td>\n",
       "      <td>4533.0</td>\n",
       "      <td>19609.0</td>\n",
       "      <td>5103.0</td>\n",
       "      <td>3274.0</td>\n",
       "      <td>35085.0</td>\n",
       "      <td>4275.0</td>\n",
       "      <td>1493.0</td>\n",
       "      <td>5292.0</td>\n",
       "      <td>812.0</td>\n",
       "    </tr>\n",
       "  </tbody>\n",
       "</table>\n",
       "</div>"
      ],
      "text/plain": [
       "    NodesExpanded0  NodesExpanded1  NodesExpanded2  NodesExpanded3  \\\n",
       "h1         15639.0        108234.0         36177.0         16158.0   \n",
       "h2          1056.0          8262.0          2022.0          1698.0   \n",
       "h3          5634.0         32852.0         10409.0         16338.0   \n",
       "\n",
       "    NodesExpanded4  NodesExpanded5  NodesExpanded6  NodesExpanded7  \\\n",
       "h1         12519.0          8949.0         16037.0         25017.0   \n",
       "h2          1866.0           874.0          1333.0          4321.0   \n",
       "h3          4200.0          2954.0          4533.0         19609.0   \n",
       "\n",
       "    NodesExpanded8  NodesExpanded9  NodesExpanded10  NodesExpanded11  \\\n",
       "h1          6811.0          2934.0          82534.0           6807.0   \n",
       "h2           811.0           592.0           7576.0            904.0   \n",
       "h3          5103.0          3274.0          35085.0           4275.0   \n",
       "\n",
       "    NodesExpanded12  NodesExpanded13  NodesExpanded14  \n",
       "h1           2450.0           7207.0           1102.0  \n",
       "h2            260.0            937.0            269.0  \n",
       "h3           1493.0           5292.0            812.0  "
      ]
     },
     "execution_count": 17,
     "metadata": {},
     "output_type": "execute_result"
    }
   ],
   "source": [
    "nodesExpanded_df"
   ]
  },
  {
   "cell_type": "code",
   "execution_count": null,
   "metadata": {},
   "outputs": [],
   "source": []
  }
 ],
 "metadata": {
  "kernelspec": {
   "display_name": "Python 3",
   "language": "python",
   "name": "python3"
  },
  "language_info": {
   "codemirror_mode": {
    "name": "ipython",
    "version": 3
   },
   "file_extension": ".py",
   "mimetype": "text/x-python",
   "name": "python",
   "nbconvert_exporter": "python",
   "pygments_lexer": "ipython3",
   "version": "3.8.5"
  }
 },
 "nbformat": 4,
 "nbformat_minor": 4
}
