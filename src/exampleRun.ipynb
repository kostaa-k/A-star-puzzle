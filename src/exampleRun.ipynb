{
 "cells": [
  {
   "cell_type": "code",
   "execution_count": 1,
   "metadata": {},
   "outputs": [],
   "source": [
    "import importlib\n",
    "import PuzzleFunctions\n",
    "import PuzzleHeuristics\n",
    "import PuzzleState\n",
    "from PuzzleState import Node\n",
    "import bisect\n",
    "import math\n",
    "import time\n",
    "from copy import deepcopy\n",
    "import DriverFunctions\n",
    "import pandas as pd"
   ]
  },
  {
   "cell_type": "code",
   "execution_count": 50,
   "metadata": {},
   "outputs": [
    {
     "data": {
      "text/plain": [
       "<module 'DriverFunctions' from 'C:\\\\Users\\\\Kosta\\\\Documents\\\\GitHub\\\\A-star-puzzle\\\\src\\\\DriverFunctions.py'>"
      ]
     },
     "execution_count": 50,
     "metadata": {},
     "output_type": "execute_result"
    }
   ],
   "source": [
    "#to reload libraries on change\n",
    "importlib.reload(DriverFunctions)"
   ]
  },
  {
   "cell_type": "code",
   "execution_count": 22,
   "metadata": {},
   "outputs": [],
   "source": [
    "successState = PuzzleFunctions.createSuccessState(3)\n",
    "possibleVals = PuzzleFunctions.getPossibleValues(3)\n",
    "randomState = PuzzleFunctions.createRandomBoard(possibleVals)\n",
    "aNode = Node(randomState, None, 0)"
   ]
  },
  {
   "cell_type": "code",
   "execution_count": null,
   "metadata": {},
   "outputs": [],
   "source": []
  },
  {
   "cell_type": "code",
   "execution_count": 23,
   "metadata": {},
   "outputs": [],
   "source": [
    "heuristicsDict = PuzzleHeuristics.getHeuristicsDictionary()\n",
    "results_df = pd.DataFrame(columns=[\"Path cost\", \"Nodes Expanded\" ])"
   ]
  },
  {
   "cell_type": "code",
   "execution_count": 43,
   "metadata": {},
   "outputs": [],
   "source": [
    "pathCost_df = pd.DataFrame()\n",
    "nodesExpanded_df = pd.DataFrame()"
   ]
  },
  {
   "cell_type": "code",
   "execution_count": 34,
   "metadata": {},
   "outputs": [],
   "source": [
    "vals = [\"h1\", \"h2\"]"
   ]
  },
  {
   "cell_type": "code",
   "execution_count": null,
   "metadata": {
    "scrolled": true
   },
   "outputs": [
    {
     "name": "stdout",
     "output_type": "stream",
     "text": [
      "h1  FINISHED WITH PATH COST:  19 NODES EXPANDED:  2685\n",
      "h2  FINISHED WITH PATH COST:  19 NODES EXPANDED:  459\n",
      "h1  FINISHED WITH PATH COST:  21 NODES EXPANDED:  6050\n",
      "h2  FINISHED WITH PATH COST:  21 NODES EXPANDED:  280\n",
      "h1  FINISHED WITH PATH COST:  20 NODES EXPANDED:  4435\n",
      "h2  FINISHED WITH PATH COST:  20 NODES EXPANDED:  988\n",
      "h1  FINISHED WITH PATH COST:  26 NODES EXPANDED:  63978\n",
      "h2  FINISHED WITH PATH COST:  26 NODES EXPANDED:  6814\n",
      "h1  FINISHED WITH PATH COST:  20 NODES EXPANDED:  3559\n",
      "h2  FINISHED WITH PATH COST:  20 NODES EXPANDED:  278\n",
      "h1  FINISHED WITH PATH COST:  22 NODES EXPANDED:  12640\n",
      "h2  FINISHED WITH PATH COST:  22 NODES EXPANDED:  1529\n",
      "h1  FINISHED WITH PATH COST:  18 NODES EXPANDED:  1497\n",
      "h2  FINISHED WITH PATH COST:  18 NODES EXPANDED:  203\n",
      "h1  FINISHED WITH PATH COST:  20 NODES EXPANDED:  5223\n",
      "h2  FINISHED WITH PATH COST:  20 NODES EXPANDED:  744\n",
      "h1  FINISHED WITH PATH COST:  25 NODES EXPANDED:  38345\n",
      "h2  FINISHED WITH PATH COST:  25 NODES EXPANDED:  2653\n",
      "h1  FINISHED WITH PATH COST:  27 NODES EXPANDED:  82384\n",
      "h2  FINISHED WITH PATH COST:  27 NODES EXPANDED:  5467\n",
      "h1  FINISHED WITH PATH COST:  17 NODES EXPANDED:  833\n",
      "h2  FINISHED WITH PATH COST:  17 NODES EXPANDED:  75\n",
      "h1  FINISHED WITH PATH COST:  27 NODES EXPANDED:  85480\n",
      "h2  FINISHED WITH PATH COST:  27 NODES EXPANDED:  12954\n",
      "h1  FINISHED WITH PATH COST:  24 NODES EXPANDED:  29632\n"
     ]
    }
   ],
   "source": [
    "count = 0\n",
    "while(count < 15):\n",
    "    randomState = PuzzleFunctions.createRandomBoard(possibleVals)\n",
    "    #PuzzleFunctions.printBoardNicely(randomState)\n",
    "    aNode = Node(randomState, None, 0)\n",
    "    if(aNode.isSolvable()):\n",
    "        for key in vals:\n",
    "            nodesExpanded = 0\n",
    "            finishedNode, nodesExpanded = DriverFunctions.solvePuzzle(aNode, successState, key, heuristicsDict)\n",
    "            pathCost_df.at[key, \"PathCost\"+(str)(count)] = finishedNode.pathCost\n",
    "            nodesExpanded_df.at[key, \"NodesExpanded\"+str(count)] = nodesExpanded\n",
    "            print(key, \" FINISHED WITH PATH COST: \", finishedNode.pathCost, \"NODES EXPANDED: \", nodesExpanded)\n",
    "        count = count+1"
   ]
  },
  {
   "cell_type": "code",
   "execution_count": null,
   "metadata": {},
   "outputs": [],
   "source": [
    "check_df(pathCost_df)"
   ]
  },
  {
   "cell_type": "markdown",
   "metadata": {},
   "source": [
    "###### \n",
    "def check_df(df):\n",
    "    for col in (list)(df.columns):\n",
    "        allNums = []\n",
    "        for row in (list)(df.index):\n",
    "            allNums.append(df.at[row, col])\n",
    "            \n",
    "        for i in range(0, len(allNums)):\n",
    "            for x in range(i, len(allNums)):\n",
    "                if(allNums[i] != allNums[x]):\n",
    "                    return False\n",
    "                \n",
    "    return True"
   ]
  },
  {
   "cell_type": "code",
   "execution_count": 45,
   "metadata": {},
   "outputs": [
    {
     "data": {
      "text/html": [
       "<div>\n",
       "<style scoped>\n",
       "    .dataframe tbody tr th:only-of-type {\n",
       "        vertical-align: middle;\n",
       "    }\n",
       "\n",
       "    .dataframe tbody tr th {\n",
       "        vertical-align: top;\n",
       "    }\n",
       "\n",
       "    .dataframe thead th {\n",
       "        text-align: right;\n",
       "    }\n",
       "</style>\n",
       "<table border=\"1\" class=\"dataframe\">\n",
       "  <thead>\n",
       "    <tr style=\"text-align: right;\">\n",
       "      <th></th>\n",
       "      <th>PathCost0</th>\n",
       "      <th>PathCost1</th>\n",
       "      <th>PathCost2</th>\n",
       "      <th>PathCost3</th>\n",
       "      <th>PathCost4</th>\n",
       "      <th>PathCost5</th>\n",
       "      <th>PathCost6</th>\n",
       "      <th>PathCost7</th>\n",
       "      <th>PathCost8</th>\n",
       "      <th>PathCost9</th>\n",
       "      <th>PathCost10</th>\n",
       "      <th>PathCost11</th>\n",
       "      <th>PathCost12</th>\n",
       "      <th>PathCost13</th>\n",
       "      <th>PathCost14</th>\n",
       "    </tr>\n",
       "  </thead>\n",
       "  <tbody>\n",
       "    <tr>\n",
       "      <th>h1</th>\n",
       "      <td>14.0</td>\n",
       "      <td>17.0</td>\n",
       "      <td>18.0</td>\n",
       "      <td>24.0</td>\n",
       "      <td>22.0</td>\n",
       "      <td>22.0</td>\n",
       "      <td>23.0</td>\n",
       "      <td>22.0</td>\n",
       "      <td>23.0</td>\n",
       "      <td>25.0</td>\n",
       "      <td>17.0</td>\n",
       "      <td>20.0</td>\n",
       "      <td>20.0</td>\n",
       "      <td>24.0</td>\n",
       "      <td>20.0</td>\n",
       "    </tr>\n",
       "    <tr>\n",
       "      <th>h2</th>\n",
       "      <td>14.0</td>\n",
       "      <td>17.0</td>\n",
       "      <td>18.0</td>\n",
       "      <td>24.0</td>\n",
       "      <td>22.0</td>\n",
       "      <td>22.0</td>\n",
       "      <td>25.0</td>\n",
       "      <td>22.0</td>\n",
       "      <td>25.0</td>\n",
       "      <td>25.0</td>\n",
       "      <td>19.0</td>\n",
       "      <td>20.0</td>\n",
       "      <td>20.0</td>\n",
       "      <td>24.0</td>\n",
       "      <td>20.0</td>\n",
       "    </tr>\n",
       "  </tbody>\n",
       "</table>\n",
       "</div>"
      ],
      "text/plain": [
       "    PathCost0  PathCost1  PathCost2  PathCost3  PathCost4  PathCost5  \\\n",
       "h1       14.0       17.0       18.0       24.0       22.0       22.0   \n",
       "h2       14.0       17.0       18.0       24.0       22.0       22.0   \n",
       "\n",
       "    PathCost6  PathCost7  PathCost8  PathCost9  PathCost10  PathCost11  \\\n",
       "h1       23.0       22.0       23.0       25.0        17.0        20.0   \n",
       "h2       25.0       22.0       25.0       25.0        19.0        20.0   \n",
       "\n",
       "    PathCost12  PathCost13  PathCost14  \n",
       "h1        20.0        24.0        20.0  \n",
       "h2        20.0        24.0        20.0  "
      ]
     },
     "execution_count": 45,
     "metadata": {},
     "output_type": "execute_result"
    }
   ],
   "source": [
    "pathCost_df"
   ]
  },
  {
   "cell_type": "code",
   "execution_count": 78,
   "metadata": {},
   "outputs": [
    {
     "data": {
      "text/html": [
       "<div>\n",
       "<style scoped>\n",
       "    .dataframe tbody tr th:only-of-type {\n",
       "        vertical-align: middle;\n",
       "    }\n",
       "\n",
       "    .dataframe tbody tr th {\n",
       "        vertical-align: top;\n",
       "    }\n",
       "\n",
       "    .dataframe thead th {\n",
       "        text-align: right;\n",
       "    }\n",
       "</style>\n",
       "<table border=\"1\" class=\"dataframe\">\n",
       "  <thead>\n",
       "    <tr style=\"text-align: right;\">\n",
       "      <th></th>\n",
       "      <th>NodesExpanded0</th>\n",
       "      <th>NodesExpanded1</th>\n",
       "      <th>NodesExpanded2</th>\n",
       "      <th>NodesExpanded3</th>\n",
       "      <th>NodesExpanded4</th>\n",
       "      <th>NodesExpanded5</th>\n",
       "      <th>NodesExpanded6</th>\n",
       "      <th>NodesExpanded7</th>\n",
       "      <th>NodesExpanded8</th>\n",
       "      <th>NodesExpanded9</th>\n",
       "      <th>NodesExpanded10</th>\n",
       "      <th>NodesExpanded11</th>\n",
       "      <th>NodesExpanded12</th>\n",
       "      <th>NodesExpanded13</th>\n",
       "      <th>NodesExpanded14</th>\n",
       "    </tr>\n",
       "  </thead>\n",
       "  <tbody>\n",
       "    <tr>\n",
       "      <th>h1</th>\n",
       "      <td>18698.0</td>\n",
       "      <td>30357.0</td>\n",
       "      <td>3229.0</td>\n",
       "      <td>7590.0</td>\n",
       "      <td>4165.0</td>\n",
       "      <td>3042.0</td>\n",
       "      <td>13043.0</td>\n",
       "      <td>2550.0</td>\n",
       "      <td>1681.0</td>\n",
       "      <td>17795.0</td>\n",
       "      <td>13282.0</td>\n",
       "      <td>8619.0</td>\n",
       "      <td>3422.0</td>\n",
       "      <td>5174.0</td>\n",
       "      <td>29539.0</td>\n",
       "    </tr>\n",
       "    <tr>\n",
       "      <th>h2</th>\n",
       "      <td>2422.0</td>\n",
       "      <td>5711.0</td>\n",
       "      <td>461.0</td>\n",
       "      <td>516.0</td>\n",
       "      <td>561.0</td>\n",
       "      <td>1199.0</td>\n",
       "      <td>858.0</td>\n",
       "      <td>575.0</td>\n",
       "      <td>344.0</td>\n",
       "      <td>1488.0</td>\n",
       "      <td>1164.0</td>\n",
       "      <td>1374.0</td>\n",
       "      <td>506.0</td>\n",
       "      <td>369.0</td>\n",
       "      <td>3318.0</td>\n",
       "    </tr>\n",
       "    <tr>\n",
       "      <th>h3</th>\n",
       "      <td>13351.0</td>\n",
       "      <td>28953.0</td>\n",
       "      <td>1485.0</td>\n",
       "      <td>11695.0</td>\n",
       "      <td>6921.0</td>\n",
       "      <td>4359.0</td>\n",
       "      <td>51572.0</td>\n",
       "      <td>6003.0</td>\n",
       "      <td>2850.0</td>\n",
       "      <td>40554.0</td>\n",
       "      <td>12936.0</td>\n",
       "      <td>6966.0</td>\n",
       "      <td>2296.0</td>\n",
       "      <td>6542.0</td>\n",
       "      <td>33539.0</td>\n",
       "    </tr>\n",
       "    <tr>\n",
       "      <th>h4</th>\n",
       "      <td>54939.0</td>\n",
       "      <td>79115.0</td>\n",
       "      <td>11807.0</td>\n",
       "      <td>27010.0</td>\n",
       "      <td>14704.0</td>\n",
       "      <td>11809.0</td>\n",
       "      <td>42624.0</td>\n",
       "      <td>8537.0</td>\n",
       "      <td>6119.0</td>\n",
       "      <td>54952.0</td>\n",
       "      <td>42609.0</td>\n",
       "      <td>27041.0</td>\n",
       "      <td>11802.0</td>\n",
       "      <td>20009.0</td>\n",
       "      <td>79103.0</td>\n",
       "    </tr>\n",
       "  </tbody>\n",
       "</table>\n",
       "</div>"
      ],
      "text/plain": [
       "    NodesExpanded0  NodesExpanded1  NodesExpanded2  NodesExpanded3  \\\n",
       "h1         18698.0         30357.0          3229.0          7590.0   \n",
       "h2          2422.0          5711.0           461.0           516.0   \n",
       "h3         13351.0         28953.0          1485.0         11695.0   \n",
       "h4         54939.0         79115.0         11807.0         27010.0   \n",
       "\n",
       "    NodesExpanded4  NodesExpanded5  NodesExpanded6  NodesExpanded7  \\\n",
       "h1          4165.0          3042.0         13043.0          2550.0   \n",
       "h2           561.0          1199.0           858.0           575.0   \n",
       "h3          6921.0          4359.0         51572.0          6003.0   \n",
       "h4         14704.0         11809.0         42624.0          8537.0   \n",
       "\n",
       "    NodesExpanded8  NodesExpanded9  NodesExpanded10  NodesExpanded11  \\\n",
       "h1          1681.0         17795.0          13282.0           8619.0   \n",
       "h2           344.0          1488.0           1164.0           1374.0   \n",
       "h3          2850.0         40554.0          12936.0           6966.0   \n",
       "h4          6119.0         54952.0          42609.0          27041.0   \n",
       "\n",
       "    NodesExpanded12  NodesExpanded13  NodesExpanded14  \n",
       "h1           3422.0           5174.0          29539.0  \n",
       "h2            506.0            369.0           3318.0  \n",
       "h3           2296.0           6542.0          33539.0  \n",
       "h4          11802.0          20009.0          79103.0  "
      ]
     },
     "execution_count": 78,
     "metadata": {},
     "output_type": "execute_result"
    }
   ],
   "source": [
    "nodesExpanded_df"
   ]
  },
  {
   "cell_type": "code",
   "execution_count": null,
   "metadata": {},
   "outputs": [],
   "source": []
  }
 ],
 "metadata": {
  "kernelspec": {
   "display_name": "Python 3",
   "language": "python",
   "name": "python3"
  },
  "language_info": {
   "codemirror_mode": {
    "name": "ipython",
    "version": 3
   },
   "file_extension": ".py",
   "mimetype": "text/x-python",
   "name": "python",
   "nbconvert_exporter": "python",
   "pygments_lexer": "ipython3",
   "version": "3.8.5"
  }
 },
 "nbformat": 4,
 "nbformat_minor": 4
}
