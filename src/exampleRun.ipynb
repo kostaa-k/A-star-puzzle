{
 "cells": [
  {
   "cell_type": "code",
   "execution_count": 1,
   "metadata": {},
   "outputs": [],
   "source": [
    "import PuzzleFunctions\n",
    "import PuzzleHeuristics\n",
    "from PuzzleState import Node\n",
    "import bisect\n",
    "import math\n",
    "import time"
   ]
  },
  {
   "cell_type": "code",
   "execution_count": 2,
   "metadata": {},
   "outputs": [],
   "source": [
    "randomState = [[1, 0, 2],[3, 4, 5],[6, 7, 8]]\n",
    "successState = [[0, 1, 2],[3, 4, 5],[6, 7, 8]]"
   ]
  },
  {
   "cell_type": "code",
   "execution_count": 3,
   "metadata": {},
   "outputs": [
    {
     "data": {
      "text/plain": [
       "[]"
      ]
     },
     "execution_count": 3,
     "metadata": {},
     "output_type": "execute_result"
    }
   ],
   "source": [
    "PuzzleFunctions.getDisplacementPairs(randomState)"
   ]
  },
  {
   "cell_type": "code",
   "execution_count": 4,
   "metadata": {},
   "outputs": [],
   "source": [
    "possibleVals = [0, 1, 2, 3, 4, 5, 6, 7, 8]\n",
    "randomState = PuzzleFunctions.createRandomBoard(possibleVals)"
   ]
  },
  {
   "cell_type": "code",
   "execution_count": 38,
   "metadata": {},
   "outputs": [
    {
     "name": "stdout",
     "output_type": "stream",
     "text": [
      "6 8 5 \n",
      "4 3 2 \n",
      "0 7 1 \n"
     ]
    }
   ],
   "source": [
    "PuzzleFunctions.printBoardNicely(randomState)"
   ]
  },
  {
   "cell_type": "code",
   "execution_count": 82,
   "metadata": {},
   "outputs": [
    {
     "name": "stdout",
     "output_type": "stream",
     "text": [
      "7 2 0 \n",
      "4 1 8 \n",
      "5 6 3 \n"
     ]
    }
   ],
   "source": [
    "randomState = PuzzleFunctions.createRandomBoard(possibleVals)\n",
    "aNode = Node(randomState, None, 0)\n",
    "PuzzleFunctions.printBoardNicely(randomState)"
   ]
  },
  {
   "cell_type": "code",
   "execution_count": 83,
   "metadata": {},
   "outputs": [
    {
     "name": "stdout",
     "output_type": "stream",
     "text": [
      "Found faster route\n",
      "Found faster route\n",
      "FINISHED\n",
      "Steps:  48\n"
     ]
    }
   ],
   "source": [
    "if(aNode.isSolvable()):\n",
    "    solvePuzzle(aNode)\n",
    "else:\n",
    "    print(\"Not solvable\")"
   ]
  },
  {
   "cell_type": "code",
   "execution_count": 75,
   "metadata": {
    "scrolled": true
   },
   "outputs": [],
   "source": [
    "def solvePuzzle(aNode):\n",
    "    statesReached = {}\n",
    "\n",
    "    isSolved = False\n",
    "\n",
    "    frontierNodes = []\n",
    "\n",
    "    while(isSolved == False):\n",
    "\n",
    "\n",
    "        aNode.getConnectedNodes()\n",
    "\n",
    "        #uzzleFunctions.printBoardNicely(aNode.board)\n",
    "        #print(\"Heuristic: \", aNode.heuristic)\n",
    "\n",
    "        for tempNode in aNode.connectedNodes:\n",
    "            tempNode.heuristic = PuzzleHeuristics.getBoardManhattanScore(tempNode.board, successState)\n",
    "            if(PuzzleFunctions.boardToStr(tempNode.board) not in statesReached):\n",
    "                bisect.insort(frontierNodes, tempNode)\n",
    "                statesReached[PuzzleFunctions.boardToStr(tempNode.board)] = tempNode.pathCost\n",
    "            elif(statesReached[PuzzleFunctions.boardToStr(tempNode.board)] > tempNode.pathCost):\n",
    "                print(\"Found faster route\")\n",
    "                frontierNodes = replaceBoard(frontierNodes, tempNode)\n",
    "                statesReached[PuzzleFunctions.boardToStr(tempNode.board)] = tempNode.pathCost\n",
    "\n",
    "        #print(\"Frontiers: \" , len(frontierNodes))\n",
    "\n",
    "        aNode = frontierNodes.pop(0)\n",
    "\n",
    "\n",
    "        if(aNode.board == successState):\n",
    "            isSolved=True\n",
    "\n",
    "        \n",
    "    print(\"FINISHED\")\n",
    "    print(\"Steps: \", tempNode.pathCost)"
   ]
  },
  {
   "cell_type": "code",
   "execution_count": 73,
   "metadata": {},
   "outputs": [],
   "source": [
    "def replaceBoard(allNodes, thisNode):\n",
    "    \n",
    "    for i in range(0, len(allNodes)):\n",
    "        if(allNodes[i].board == thisNode.board):\n",
    "            allNodes[i] = thisNode\n",
    "            \n",
    "    return allNodes"
   ]
  },
  {
   "cell_type": "code",
   "execution_count": null,
   "metadata": {},
   "outputs": [],
   "source": []
  },
  {
   "cell_type": "code",
   "execution_count": null,
   "metadata": {},
   "outputs": [],
   "source": [
    "print(tempNode.pathCost)"
   ]
  }
 ],
 "metadata": {
  "kernelspec": {
   "display_name": "Python 3",
   "language": "python",
   "name": "python3"
  },
  "language_info": {
   "codemirror_mode": {
    "name": "ipython",
    "version": 3
   },
   "file_extension": ".py",
   "mimetype": "text/x-python",
   "name": "python",
   "nbconvert_exporter": "python",
   "pygments_lexer": "ipython3",
   "version": "3.8.5"
  }
 },
 "nbformat": 4,
 "nbformat_minor": 4
}
